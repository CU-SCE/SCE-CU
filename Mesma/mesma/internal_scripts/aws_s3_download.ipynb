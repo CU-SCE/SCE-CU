{
 "cells": [
  {
   "cell_type": "code",
   "execution_count": null,
   "id": "56881ca3-6381-4c61-9031-9f1fb04267af",
   "metadata": {},
   "outputs": [
    {
     "name": "stdout",
     "output_type": "stream",
     "text": [
      "Downloading  10_S_EG_2024_9_5.tif to /workspace/workspace/images/ 10_S_EG_2024_9_5.tif...\n",
      "Downloaded /workspace/workspace/images/ 10_S_EG_2024_9_5.tif\n",
      "Downloading  10_S_GH_2024_9_27.tif to /workspace/workspace/images/ 10_S_GH_2024_9_27.tif...\n",
      "Downloaded /workspace/workspace/images/ 10_S_GH_2024_9_27.tif\n",
      "Downloading  10_S_FH_2024_9_25.tif to /workspace/workspace/images/ 10_S_FH_2024_9_25.tif...\n",
      "Downloaded /workspace/workspace/images/ 10_S_FH_2024_9_25.tif\n",
      "Downloading  11_S_KC_2024_9_27.tif to /workspace/workspace/images/ 11_S_KC_2024_9_27.tif...\n",
      "Downloaded /workspace/workspace/images/ 11_S_KC_2024_9_27.tif\n",
      "Downloading  10_S_GG_2024_9_2.tif to /workspace/workspace/images/ 10_S_GG_2024_9_2.tif...\n",
      "Downloaded /workspace/workspace/images/ 10_S_GG_2024_9_2.tif\n"
     ]
    }
   ],
   "source": [
    "import boto3\n",
    "import os\n",
    "\n",
    "\n",
    "# Function to download a specific .tif file from the S3 bucket\n",
    "def download_single_tif_image(bucket_name,folder_name, file_names, download_path, temp_creds):\n",
    "    # Create an S3 client using temporary credentials\n",
    "    s3 = boto3.client(\n",
    "        's3',\n",
    "        aws_access_key_id=temp_creds['aws_access_key_id'],\n",
    "        aws_secret_access_key=temp_creds['aws_secret_access_key'],\n",
    "        aws_session_token=temp_creds['aws_session_token']\n",
    "    )\n",
    "\n",
    "    response = s3.list_objects_v2(Bucket=bucket_name, Prefix=folder_name)\n",
    "    for file_name in file_names:\n",
    "        try:\n",
    "            local_file_name = os.path.join(download_path, file_name.split('/')[-1])\n",
    "            print(f\"Downloading {file_name} to {local_file_name}...\")\n",
    "            s3.download_file(bucket_name, os.path.join(folder_name, file_name), local_file_name)\n",
    "            print(f\"Downloaded {local_file_name}\")\n",
    "        except Exception as e:\n",
    "            print(f\"Error downloading {file_name}: {e}\")\n",
    "\n",
    "\n",
    "bucket_name = 'sce.sentinel2'\n",
    "folder_name = '2024_output_dir/'  \n",
    "download_path = '/workspace/workspace/images' \n",
    "\n",
    "file_names = [' 10_S_EG_2024_9_5.tif', ' 10_S_GH_2024_9_27.tif', ' 10_S_FH_2024_9_25.tif', ' 11_S_KC_2024_9_27.tif', ' 10_S_GG_2024_9_2.tif']\n",
    "\n",
    "# file_names = [ ' 11_S_MU_2025_1_2.tif', ' 11_S_MT_2025_1_12.tif', ' 11_S_NA_2025_1_12.tif', ' 11_S_MA_2025_1_2.tif', ' 11_S_KV_2025_1_15.tif', ' 10_S_GD_2025_1_5.tif', ' 11_S_MV_2025_1_2.tif']\n",
    "# file_names = [' 11_S_LB_2025_1_15.tif', ' 11_S_MS_2025_1_12.tif', ' 11_S_LT_2025_1_12.tif', ' 11_S_MB_2025_1_12.tif', ' 10_S_GF_2025_1_3.tif', ' 11_S_LA_2025_1_15.tif', ' 11_S_MU_2025_1_2.tif', ' 11_S_MT_2025_1_12.tif', ' 11_S_NA_2025_1_12.tif', ' 11_S_MA_2025_1_2.tif', ' 11_S_KV_2025_1_15.tif', ' 10_S_GD_2025_1_5.tif', ' 11_S_MV_2025_1_2.tif']\n",
    "temp_creds = {}\n",
    "\n",
    "\n",
    "download_single_tif_image(bucket_name, folder_name, file_names, download_path, temp_creds)"
   ]
  },
  {
   "cell_type": "code",
   "execution_count": null,
   "id": "451f9457-e939-4adf-a837-a46480734b04",
   "metadata": {},
   "outputs": [],
   "source": []
  }
 ],
 "metadata": {
  "kernelspec": {
   "display_name": "earth-lab",
   "language": "python",
   "name": "earth-lab"
  },
  "language_info": {
   "codemirror_mode": {
    "name": "ipython",
    "version": 3
   },
   "file_extension": ".py",
   "mimetype": "text/x-python",
   "name": "python",
   "nbconvert_exporter": "python",
   "pygments_lexer": "ipython3",
   "version": "3.9.21"
  }
 },
 "nbformat": 4,
 "nbformat_minor": 5
}
