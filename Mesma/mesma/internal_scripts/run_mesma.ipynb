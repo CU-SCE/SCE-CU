{
 "cells": [
  {
   "cell_type": "code",
   "execution_count": 16,
   "id": "266cf51c-7c5b-4629-b17d-ff9c364cd19d",
   "metadata": {},
   "outputs": [
    {
     "name": "stdout",
     "output_type": "stream",
     "text": [
      "Job Done!\n"
     ]
    }
   ],
   "source": [
    "import subprocess\n",
    "import os\n",
    "def run_python_command_in_loop(script_name, argument_list):\n",
    "    \"\"\"\n",
    "    Runs a Python script in a loop with different arguments.\n",
    "    \n",
    "    :param script_name: The Python script to run (e.g., 'example.py').\n",
    "    :param argument_list: List of arguments to pass in each iteration.\n",
    "    \"\"\"\n",
    "    for args in argument_list:\n",
    "        # Construct the command with the script and its arguments\n",
    "        # command = ['python', script_name] + arg\n",
    "        print(subprocess.run(\"conda info --envs\", capture_output=True, text=True, check=True).stdout)\n",
    "        command = f\"conda run -n earth-lab python {script_name} \" + \" \".join(args)\n",
    "        \n",
    "        try:\n",
    "            print(f\"Running: {command}\")\n",
    "            # Run the command\n",
    "            print(command)\n",
    "            result = subprocess.run(command, capture_output=True, text=True, check=True)\n",
    "            \n",
    "            # Print the output of the command\n",
    "            print(\"Output:\\n\", result.stdout)\n",
    "        except subprocess.CalledProcessError as e:\n",
    "            print(f\"Error while running command: {' '.join(command)}\")\n",
    "            print(\"Error output:\\n\", e.stderr)\n",
    "\n",
    "# Example usage\n",
    "if __name__ == \"__main__\":\n",
    "    # Script to run\n",
    "    script_to_run = 'mesma_main.py'  # Replace with your script name\n",
    "    base_path = 'images/'\n",
    "    images = os.listdir('images/')\n",
    "    full_image_path = ['\\\"'+\"images/\"+ i+'\\\"'  for i in images]\n",
    "\n",
    "\n",
    "    # static_arguments = [base_path+\"spectral_library/38_output.sli\", \"Type\" ]\n",
    "    static_arguments = [\"spectral_library/39_output.sli\", \"Type\" ]\n",
    "    \n",
    "    argument_list = []\n",
    "    for i in full_image_path:\n",
    "        if(len(i.split(\".\"))>1 and \"tif\" in i.split(\".\")[1]):\n",
    "            l = []\n",
    "            l.extend(static_arguments)\n",
    "            l.append(i)\n",
    "            argument_list.append(l)\n",
    "\n",
    "    shell_script_path = 'run_mesma_commands.sh'\n",
    "    with open(shell_script_path, 'w') as shell_script:\n",
    "        for i in argument_list:\n",
    "            # print(\"python mesma_main.py \" + \" \".join(i) + \"|| true\")\n",
    "            command = f\"python mesma_main.py \" + \" \".join(i) + \" || true\"\n",
    "            shell_script.write(command + \"\\n\")\n",
    "\n",
    "    print(\"Job Done!\")\n",
    "\n"
   ]
  },
  {
   "cell_type": "code",
   "execution_count": 10,
   "id": "820db129-df6c-46af-b654-a1f7251c1f1c",
   "metadata": {},
   "outputs": [
    {
     "name": "stdout",
     "output_type": "stream",
     "text": [
      "\"images/ 11_S_KC_2024_3_21.tif\"\n",
      "\"images/ 11_S_KC_2024_2_10.tif\"\n",
      "\"images/ 10_S_GH_2024_2_25.tif\"\n",
      "\"images/ 10_S_EG_2024_3_14.tif\"\n",
      "\"images/ 10_S_GH_2024_3_21.tif\"\n",
      "\"images/ 10_S_FG_2024_2_28.tif\"\n",
      "\"images/ 10_S_FH_2024_3_21.tif\"\n",
      "\"images/ 10_S_GG_2024_2_25.tif\"\n",
      "\"images/ 10_S_EG_2024_2_28.tif\"\n",
      "\"images/ 10_S_FH_2024_2_28.tif\"\n"
     ]
    }
   ],
   "source": [
    "import os\n",
    "images = os.listdir('images/')\n",
    "full_image_path = ['\\\"'+\"images/\"+ i+'\\\"'  for i in images]\n",
    "for i in full_image_path:\n",
    "    if(len(i.split(\".\"))>1 and \"tif\" in i.split(\".\")[1]):\n",
    "        print(i)"
   ]
  },
  {
   "cell_type": "code",
   "execution_count": null,
   "id": "fd294d4b-51d1-42c2-bb20-e8a05c436d7b",
   "metadata": {},
   "outputs": [],
   "source": []
  }
 ],
 "metadata": {
  "kernelspec": {
   "display_name": "earth-lab",
   "language": "python",
   "name": "earth-lab"
  },
  "language_info": {
   "codemirror_mode": {
    "name": "ipython",
    "version": 3
   },
   "file_extension": ".py",
   "mimetype": "text/x-python",
   "name": "python",
   "nbconvert_exporter": "python",
   "pygments_lexer": "ipython3",
   "version": "3.9.21"
  }
 },
 "nbformat": 4,
 "nbformat_minor": 5
}
